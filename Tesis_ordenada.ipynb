version https://git-lfs.github.com/spec/v1
oid sha256:d6ad41cca90ed175f81f74c7b749a1f27e71e5cca466f528a6f051580ea79378
size 1270430
