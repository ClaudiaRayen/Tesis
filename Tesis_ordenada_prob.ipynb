version https://git-lfs.github.com/spec/v1
oid sha256:05d817770642542479da7bdadbddd19e4f57e2cc9f07bd940f3bea5f527967c5
size 10296816
